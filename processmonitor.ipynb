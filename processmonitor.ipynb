{
  "nbformat": 4,
  "nbformat_minor": 0,
  "metadata": {
    "colab": {
      "provenance": [],
      "authorship_tag": "ABX9TyNox2S1SqjjCp3xdtb1cgA4",
      "include_colab_link": true
    },
    "kernelspec": {
      "name": "python3",
      "display_name": "Python 3"
    },
    "language_info": {
      "name": "python"
    }
  },
  "cells": [
    {
      "cell_type": "markdown",
      "metadata": {
        "id": "view-in-github",
        "colab_type": "text"
      },
      "source": [
        "<a href=\"https://colab.research.google.com/github/Savant261/CSE316-Project/blob/main/processmonitor.ipynb\" target=\"_parent\"><img src=\"https://colab.research.google.com/assets/colab-badge.svg\" alt=\"Open In Colab\"/></a>"
      ]
    },
    {
      "cell_type": "code",
      "execution_count": 1,
      "metadata": {
        "colab": {
          "base_uri": "https://localhost:8080/"
        },
        "id": "9rM-kCkxKuEq",
        "outputId": "5572834b-3c9f-42ce-f5e2-02c244897b5c"
      },
      "outputs": [
        {
          "output_type": "stream",
          "name": "stdout",
          "text": [
            " * Serving Flask app '__main__'\n",
            " * Debug mode: off\n"
          ]
        },
        {
          "output_type": "stream",
          "name": "stderr",
          "text": [
            "INFO:werkzeug:\u001b[31m\u001b[1mWARNING: This is a development server. Do not use it in a production deployment. Use a production WSGI server instead.\u001b[0m\n",
            " * Running on http://127.0.0.1:5000\n",
            "INFO:werkzeug:\u001b[33mPress CTRL+C to quit\u001b[0m\n"
          ]
        }
      ],
      "source": [
        "from flask import Flask, jsonify\n",
        "import psutil\n",
        "\n",
        "app = Flask(__name__)\n",
        "\n",
        "@app.route(\"/processes\")\n",
        "def list_processes():\n",
        "    processes = []\n",
        "    for proc in psutil.process_iter(['pid', 'name', 'cpu_percent', 'memory_percent']):\n",
        "        try:\n",
        "            processes.append(proc.info)\n",
        "        except (psutil.NoSuchProcess, psutil.AccessDenied):\n",
        "            continue\n",
        "    return jsonify(processes)\n",
        "\n",
        "if __name__ == \"__main__\":\n",
        "    app.run(port=5000)\n"
      ]
    },
    {
      "cell_type": "code",
      "source": [
        "!wget -q -O ngrok.zip https://bin.equinox.io/c/bNyj1mQVY4c/ngrok-v3-stable-linux-amd64.zip\n",
        "!unzip -o ngrok.zip\n"
      ],
      "metadata": {
        "colab": {
          "base_uri": "https://localhost:8080/"
        },
        "id": "As3pl82PNUb6",
        "outputId": "9ecd4306-dd4c-40e4-e2c0-e5a72449bfb3"
      },
      "execution_count": 4,
      "outputs": [
        {
          "output_type": "stream",
          "name": "stdout",
          "text": [
            "Archive:  ngrok.zip\n",
            "  inflating: ngrok                   \n"
          ]
        }
      ]
    },
    {
      "cell_type": "code",
      "source": [
        "!./ngrok config add-authtoken 2uf5AVli0Hv3BiECbD8l92nDQaY_orC7Fs7b2NtcGeEbrCVG\n"
      ],
      "metadata": {
        "colab": {
          "base_uri": "https://localhost:8080/"
        },
        "id": "DJ-GL8VnNpze",
        "outputId": "7c735f04-8feb-4962-f488-db5c6a952317"
      },
      "execution_count": 9,
      "outputs": [
        {
          "output_type": "stream",
          "name": "stdout",
          "text": [
            "Authtoken saved to configuration file: /root/.config/ngrok/ngrok.yml\n"
          ]
        }
      ]
    },
    {
      "cell_type": "code",
      "source": [
        "get_ipython().system_raw('./ngrok http 8000 &')\n"
      ],
      "metadata": {
        "id": "EnaevzsnOExs"
      },
      "execution_count": 10,
      "outputs": []
    },
    {
      "cell_type": "code",
      "source": [
        "import requests\n",
        "import time\n",
        "\n",
        "time.sleep(4)\n",
        "\n",
        "\n",
        "res = requests.get('http://localhost:4040/api/tunnels')\n",
        "tunnels = res.json()['tunnels']\n",
        "public_url = [t['public_url'] for t in tunnels if t['proto'] == 'https'][0]\n",
        "print(f\"🚀 Your public API is live at: {public_url}/processes\")\n"
      ],
      "metadata": {
        "colab": {
          "base_uri": "https://localhost:8080/"
        },
        "id": "15-vcH0lOHrI",
        "outputId": "ea5c5a76-5cd9-4c9f-f9f5-262a20cfe076"
      },
      "execution_count": 11,
      "outputs": [
        {
          "output_type": "stream",
          "name": "stderr",
          "text": [
            "ERROR:asyncio:Task exception was never retrieved\n",
            "future: <Task finished name='Task-19' coro=<Server.serve() done, defined at /usr/local/lib/python3.11/dist-packages/uvicorn/server.py:68> exception=SystemExit(1)>\n",
            "Traceback (most recent call last):\n",
            "  File \"/usr/local/lib/python3.11/dist-packages/uvicorn/server.py\", line 163, in startup\n",
            "    server = await loop.create_server(\n",
            "             ^^^^^^^^^^^^^^^^^^^^^^^^^\n",
            "  File \"/usr/lib/python3.11/asyncio/base_events.py\", line 1536, in create_server\n",
            "    raise OSError(err.errno, msg) from None\n",
            "OSError: [Errno 98] error while attempting to bind on address ('0.0.0.0', 8000): address already in use\n",
            "\n",
            "During handling of the above exception, another exception occurred:\n",
            "\n",
            "Traceback (most recent call last):\n",
            "  File \"/usr/lib/python3.11/threading.py\", line 1045, in _bootstrap_inner\n",
            "    self.run()\n",
            "  File \"/usr/lib/python3.11/threading.py\", line 982, in run\n",
            "    self._target(*self._args, **self._kwargs)\n",
            "  File \"<ipython-input-8-dd9cb97269db>\", line 40, in start\n",
            "    uvicorn.run(app, host=\"0.0.0.0\", port=8000)\n",
            "  File \"/usr/local/lib/python3.11/dist-packages/uvicorn/main.py\", line 579, in run\n",
            "    server.run()\n",
            "  File \"/usr/local/lib/python3.11/dist-packages/uvicorn/server.py\", line 66, in run\n",
            "    return asyncio.run(self.serve(sockets=sockets))\n",
            "           ^^^^^^^^^^^^^^^^^^^^^^^^^^^^^^^^^^^^^^^^\n",
            "  File \"/usr/local/lib/python3.11/dist-packages/nest_asyncio.py\", line 30, in run\n",
            "    return loop.run_until_complete(task)\n",
            "           ^^^^^^^^^^^^^^^^^^^^^^^^^^^^^\n",
            "  File \"/usr/local/lib/python3.11/dist-packages/nest_asyncio.py\", line 92, in run_until_complete\n",
            "    self._run_once()\n",
            "  File \"/usr/local/lib/python3.11/dist-packages/nest_asyncio.py\", line 133, in _run_once\n",
            "    handle._run()\n",
            "  File \"/usr/lib/python3.11/asyncio/events.py\", line 84, in _run\n",
            "    self._context.run(self._callback, *self._args)\n",
            "  File \"/usr/lib/python3.11/asyncio/tasks.py\", line 360, in __wakeup\n",
            "    self.__step()\n",
            "  File \"/usr/lib/python3.11/asyncio/tasks.py\", line 277, in __step\n",
            "    result = coro.send(None)\n",
            "             ^^^^^^^^^^^^^^^\n",
            "  File \"/usr/local/lib/python3.11/dist-packages/uvicorn/server.py\", line 70, in serve\n",
            "    await self._serve(sockets)\n",
            "  File \"/usr/local/lib/python3.11/dist-packages/uvicorn/server.py\", line 85, in _serve\n",
            "    await self.startup(sockets=sockets)\n",
            "  File \"/usr/local/lib/python3.11/dist-packages/uvicorn/server.py\", line 173, in startup\n",
            "    sys.exit(1)\n",
            "SystemExit: 1\n"
          ]
        },
        {
          "output_type": "stream",
          "name": "stdout",
          "text": [
            "🚀 Your public API is live at: https://10f8-34-125-122-87.ngrok-free.app/processes\n"
          ]
        }
      ]
    },
    {
      "cell_type": "code",
      "source": [
        "# ✅ Install FastAPI & dependencies (skip pyngrok!)\n",
        "!pip install fastapi nest-asyncio uvicorn psutil --quiet\n",
        "!wget -q -O ngrok.zip https://bin.equinox.io/c/bNyj1mQVY4c/ngrok-v3-stable-linux-amd64.zip\n",
        "!unzip -o ngrok.zip\n"
      ],
      "metadata": {
        "colab": {
          "base_uri": "https://localhost:8080/"
        },
        "id": "4bSnwrTpOjTy",
        "outputId": "402e9945-f5d3-4588-ef2f-559723547ef0"
      },
      "execution_count": 13,
      "outputs": [
        {
          "output_type": "stream",
          "name": "stdout",
          "text": [
            "Archive:  ngrok.zip\n",
            "  inflating: ngrok                   \n"
          ]
        }
      ]
    },
    {
      "cell_type": "code",
      "source": [
        "\n",
        "import nest_asyncio\n",
        "import uvicorn\n",
        "import threading\n",
        "import psutil\n",
        "from fastapi import FastAPI\n",
        "from fastapi.middleware.cors import CORSMiddleware\n",
        "\n",
        "app = FastAPI()\n",
        "\n",
        "app.add_middleware(\n",
        "    CORSMiddleware,\n",
        "    allow_origins=[\"*\"],\n",
        "    allow_methods=[\"*\"],\n",
        "    allow_headers=[\"*\"],\n",
        ")\n",
        "\n",
        "@app.get(\"/processes\")\n",
        "def list_processes():\n",
        "    processes = []\n",
        "    for proc in psutil.process_iter(['pid', 'name', 'cpu_percent', 'memory_percent']):\n",
        "        try:\n",
        "            processes.append(proc.info)\n",
        "        except (psutil.NoSuchProcess, psutil.AccessDenied):\n",
        "            continue\n",
        "    return processes\n",
        "\n",
        "nest_asyncio.apply()\n",
        "\n",
        "def run():\n",
        "    uvicorn.run(app, host=\"0.0.0.0\", port=8000)\n",
        "\n",
        "thread = threading.Thread(target=run)\n",
        "thread.start()\n"
      ],
      "metadata": {
        "colab": {
          "base_uri": "https://localhost:8080/"
        },
        "id": "tgrhb-PkOmcV",
        "outputId": "8125be01-ee75-490a-972a-ab98ffde7ee4"
      },
      "execution_count": 14,
      "outputs": [
        {
          "output_type": "stream",
          "name": "stderr",
          "text": [
            "INFO:     Started server process [3246]\n"
          ]
        }
      ]
    },
    {
      "cell_type": "code",
      "source": [
        "\n",
        "#  Get this from https://dashboard.ngrok.com/get-started/setup\n",
        "!./ngrok config 2uf5AVli0Hv3BiECbD8l92nDQaY_orC7Fs7b2NtcGeEbrCVG\n"
      ],
      "metadata": {
        "colab": {
          "base_uri": "https://localhost:8080/"
        },
        "id": "EkdrCMsiOrfB",
        "outputId": "b0594e9f-154e-4ffe-db05-82e7e08b0636"
      },
      "execution_count": 16,
      "outputs": [
        {
          "output_type": "stream",
          "name": "stdout",
          "text": [
            "NAME:\n",
            "  config - update or migrate ngrok's configuration file\n",
            "\n",
            "USAGE:\n",
            "  ngrok config [flags]\n",
            "\n",
            "DESCRIPTION: \n",
            "  The config command gives a quick way to create or update ngrok's configuration\n",
            "  file. Use 'add-authtoken' or 'add-api-key' to set the corresponding properties.\n",
            "\n",
            "  Use 'check' to test a configuration file for validity. If you have an old\n",
            "  configuration file, you can also use 'upgrade' to automatically migrate to the\n",
            "  latest version.\n",
            "\n",
            "COMMANDS:\n",
            "  add-api-key                    save api key to configuration file\n",
            "  add-authtoken                  save authtoken to configuration file\n",
            "  add-connect-url                adds the connect URL (connect_url) to configuration file for custom agent ingress\n",
            "  add-server-addr                alias of add-connect-url\n",
            "  check                          check configuration file\n",
            "  edit                           edit configuration file\n",
            "  upgrade                        auto-upgrade configuration file\n",
            "\n",
            "OPTIONS:\n",
            "      --config strings   path to config files; they are merged if multiple\n",
            "  -h, --help             help for config\n"
          ]
        }
      ]
    },
    {
      "cell_type": "code",
      "source": [
        "\n",
        "get_ipython().system_raw('./ngrok http 8000 &')\n"
      ],
      "metadata": {
        "id": "GTpT1golO69_"
      },
      "execution_count": 17,
      "outputs": []
    },
    {
      "cell_type": "code",
      "source": [
        "\n",
        "import time\n",
        "import requests\n",
        "\n",
        "time.sleep(5)\n",
        "\n",
        "r = requests.get(\"http://localhost:4040/api/tunnels\")\n",
        "public_url = r.json()['tunnels'][0]['public_url']\n",
        "print(f\"🚀 Public FastAPI URL: {public_url}/processes\")\n"
      ],
      "metadata": {
        "colab": {
          "base_uri": "https://localhost:8080/"
        },
        "id": "ostZCBFgO9pK",
        "outputId": "40024fb1-79f9-4de4-af7e-0ef1bf8b01ca"
      },
      "execution_count": 18,
      "outputs": [
        {
          "output_type": "stream",
          "name": "stdout",
          "text": [
            "🚀 Public FastAPI URL: https://10f8-34-125-122-87.ngrok-free.app/processes\n"
          ]
        }
      ]
    }
  ]
}